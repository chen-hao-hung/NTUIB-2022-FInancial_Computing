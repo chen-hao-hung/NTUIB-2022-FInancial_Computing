{
 "cells": [
  {
   "cell_type": "code",
   "execution_count": 2,
   "metadata": {},
   "outputs": [],
   "source": [
    "#Financial Computing HW3\n",
    "import numpy as np\n",
    "from scipy.stats import norm\n",
    "\n",
    "#input values setting\n",
    "K = 100\n",
    "r = 0.1\n",
    "T = 0.5\n",
    "num_simulation = 10000\n",
    "num_repetitions = 20\n",
    "S0 = [95, 95, 95, 95, 95]\n",
    "q = [.05, .05, .05, .05, .05]\n",
    "sigma = [.5, .5, .5, .5, .5]\n"
   ]
  },
  {
   "cell_type": "code",
   "execution_count": 4,
   "metadata": {},
   "outputs": [
    {
     "name": "stdout",
     "output_type": "stream",
     "text": [
      "the value of rainbow option is 11.915264321074138\n",
      "the 95% confidence interval is 11.468200644763122 12.418602187065279\n"
     ]
    }
   ],
   "source": [
    "#Basic Requirement\n",
    "#Cholesky Decomposition\n",
    "\n",
    "def cholesky_decomposition(C):\n",
    "    dimension = C.shape[0]\n",
    "    A = np.zeros((dimension, dimension))\n",
    "    A[0, 0] = np.sqrt(C[0, 0])\n",
    "\n",
    "    for i in range(1, dimension):   \n",
    "        A[0, i] = C[0, i]/A[0, 0]\n",
    "\n",
    "    for i in range(1, dimension-1):\n",
    "        for j in range(i, dimension):\n",
    "            sum1 = 0\n",
    "            sum2 = 0\n",
    "            for k in range(0, i):\n",
    "                sum1  += (A[k, i]**2)\n",
    "                sum2 += (A[k, i]*A[k, j])\n",
    "                A[i, i] = np.sqrt(C[i, i] - sum1)\n",
    "                A[i, j] = (C[i, j] - sum2)/A[i, i]\n",
    "\n",
    "    sum3 = 0\n",
    "    for k in range(0, dimension):\n",
    "        sum3 += A[k, dimension-1]**2\n",
    "\n",
    "    A[dimension-1, dimension-1] = np.sqrt(C[dimension-1, dimension-1] - sum3)\n",
    "    return A\n",
    "\n",
    "#Price the rainbow option\n",
    "def rainbow_option(K, r, T, num_simulation, n, S0, q, sigma, rho):\n",
    "    C = np.zeros((n, n))\n",
    "    for i in range(n):\n",
    "        for j in range(n):\n",
    "            if i == j:\n",
    "                C[i, i] = sigma[i]*sigma[i]*T\n",
    "            else:\n",
    "                C[i, j] = rho[i, j]*sigma[i]*sigma[j]*T\n",
    "\n",
    "    payoff = np.zeros((num_simulation, 1))\n",
    "    z = np.zeros((num_simulation, n))\n",
    "    A = cholesky_decomposition(C)\n",
    "    for i in range(n):\n",
    "        z[:, i] = norm.rvs(0, 1, num_simulation)\n",
    "    r_ = z.dot(A)\n",
    "\n",
    "    for i in range(n):\n",
    "        r_[:, i] = r_[:, i]+np.log(S0[i])+(r-q[i]-0.5*sigma[i]*sigma[i])*T\n",
    "    st = np.exp(r_)\n",
    "    \n",
    "    for i in range(num_simulation):\n",
    "        payoff[i] = max((max(st[i, :])-K), 0)\n",
    "    \n",
    "    return np.exp(-r*T)*np.mean(payoff)\n",
    "\n",
    "#MonteCarlo simulation\n",
    "def Monte_Carlo_for_rainbow_option(K, r, T, num_simulation, num_repetitions, n, S0, q, sigma, rho):\n",
    "    call = []\n",
    "    for i in range(num_repetitions):\n",
    "        call.append(rainbow_option(K, r, T, num_simulation, n, S0, q, sigma, rho))\n",
    "    sd = np.std(call)\n",
    "    mean = np.mean(call)\n",
    "    lower = mean-2*sd\n",
    "    upper = mean+2*sd\n",
    "    return mean, lower, upper\n",
    "\n",
    "n = 2\n",
    "rho = np.array([[1, 1],\n",
    "                [1, 1]])  \n",
    "print('the value of rainbow option is',Monte_Carlo_for_rainbow_option(K, r, T, num_simulation, num_repetitions, n, S0, q, sigma, rho)[0])\n",
    "print('the 95% confidence interval is',Monte_Carlo_for_rainbow_option(K, r, T, num_simulation, num_repetitions, n, S0, q, sigma, rho)[1]  \n",
    "                                      ,Monte_Carlo_for_rainbow_option(K, r, T, num_simulation, num_repetitions, n, S0, q, sigma, rho)[2])\n",
    "    "
   ]
  },
  {
   "cell_type": "code",
   "execution_count": 5,
   "metadata": {},
   "outputs": [
    {
     "name": "stdout",
     "output_type": "stream",
     "text": [
      "the value of rainbow option is 23.995537010806046\n",
      "the 95% confidence interval is 23.533462604535515 24.511646071218127\n"
     ]
    }
   ],
   "source": [
    "n = 2\n",
    "rho = np.array([[1, -1],\n",
    "                [-1, 1]])  \n",
    "print('the value of rainbow option is',Monte_Carlo_for_rainbow_option(K, r, T, num_simulation, num_repetitions, n, S0, q, sigma, rho)[0])\n",
    "print('the 95% confidence interval is',Monte_Carlo_for_rainbow_option(K, r, T, num_simulation, num_repetitions, n, S0, q, sigma, rho)[1]  \n",
    "                                      ,Monte_Carlo_for_rainbow_option(K, r, T, num_simulation, num_repetitions, n, S0, q, sigma, rho)[2])"
   ]
  },
  {
   "cell_type": "code",
   "execution_count": 7,
   "metadata": {},
   "outputs": [
    {
     "name": "stdout",
     "output_type": "stream",
     "text": [
      "the value of rainbow option is 30.359861334782543\n",
      "the 95% confidence interval is 29.625346317285075 31.017914408171414\n"
     ]
    }
   ],
   "source": [
    "n = 5\n",
    "rho = np.array([[1, .5, .5, .5, .5],\n",
    "                [.5, 1, .5, .5, .5],\n",
    "                [.5, .5, 1, .5, .5],\n",
    "                [.5, .5, .5, 1, .5],\n",
    "                [.5, .5, .5, .5, 1]])  \n",
    "print('the value of rainbow option is',Monte_Carlo_for_rainbow_option(K, r, T, num_simulation, num_repetitions, n, S0, q, sigma, rho)[0])\n",
    "print('the 95% confidence interval is',Monte_Carlo_for_rainbow_option(K, r, T, num_simulation, num_repetitions, n, S0, q, sigma, rho)[1]  \n",
    "                                      ,Monte_Carlo_for_rainbow_option(K, r, T, num_simulation, num_repetitions, n, S0, q, sigma, rho)[2])"
   ]
  },
  {
   "cell_type": "code",
   "execution_count": 9,
   "metadata": {},
   "outputs": [
    {
     "name": "stdout",
     "output_type": "stream",
     "text": [
      "the value of rainbow option is 30.406035285444283\n",
      "the 95% confidence interval is 29.998003286277807 30.657992047627605\n"
     ]
    }
   ],
   "source": [
    "#Bonus 1\n",
    "#Antithetic Variate Approach and moment Matching to price rainbow option\n",
    "n = 5\n",
    "rho = np.array([[1, .5, .5, .5, .5],\n",
    "                [.5, 1, .5, .5, .5],\n",
    "                [.5, .5, 1, .5, .5],\n",
    "                [.5, .5, .5, 1, .5],\n",
    "                [.5, .5, .5, .5, 1]])  \n",
    "                \n",
    "def rainbow_option_variance_reduction(K, r, T, num_simulation, n, S0, q, sigma, rho):\n",
    "    C = np.zeros((n, n))\n",
    "    for i in range(n):\n",
    "        for j in range(n):\n",
    "            if i == j:\n",
    "                C[i, i] = sigma[i]*sigma[i]*T\n",
    "            else:\n",
    "                C[i, j] = rho[i, j]*sigma[i]*sigma[j]*T\n",
    "\n",
    "    payoff = np.zeros((num_simulation, 1))\n",
    "    z = np.zeros((num_simulation, n))\n",
    "    A = cholesky_decomposition(C)\n",
    "    for i in range(n):\n",
    "        z[0:int(num_simulation/2), i] = norm.rvs(0, 1, int(num_simulation/2))   #Antithetic Variate Approach\n",
    "        z[int(num_simulation/2):, i] = -z[0:int(num_simulation/2), i] \n",
    "        z[:, i] = z[:, i]-np.mean(z[:, i])/np.std(z[:, i])                      #Moment Matching\n",
    "    r_ = z.dot(A)\n",
    "\n",
    "    for i in range(n):\n",
    "        r_[:, i] = r_[:, i]+np.log(S0[i])+(r-q[i]-0.5*sigma[i]*sigma[i])*T\n",
    "    st = np.exp(r_)\n",
    "    \n",
    "    for i in range(num_simulation):\n",
    "        payoff[i] = max((max(st[i, :])-K), 0)\n",
    "    \n",
    "    return np.exp(-r*T)*np.mean(payoff)\n",
    "\n",
    "#MonteCarlo simulation\n",
    "def Monte_Carlo_for_rainbow_option_variance_reduction(K, r, T, num_simulation, num_repetitions, n, S0, q, sigma, rho):\n",
    "    call = []\n",
    "    for i in range(num_repetitions):\n",
    "        call.append(rainbow_option_variance_reduction(K, r, T, num_simulation, n, S0, q, sigma, rho))\n",
    "    sd = np.std(call)\n",
    "    mean = np.mean(call)\n",
    "    lower = mean-2*sd\n",
    "    upper = mean+2*sd\n",
    "    return mean, lower, upper\n",
    "\n",
    "print('the value of rainbow option is',Monte_Carlo_for_rainbow_option_variance_reduction(K, r, T, num_simulation, num_repetitions, n, S0, q, sigma, rho)[0])\n",
    "print('the 95% confidence interval is',Monte_Carlo_for_rainbow_option_variance_reduction(K, r, T, num_simulation, num_repetitions, n, S0, q, sigma, rho)[1]  \n",
    "                                      ,Monte_Carlo_for_rainbow_option_variance_reduction(K, r, T, num_simulation, num_repetitions, n, S0, q, sigma, rho)[2])"
   ]
  },
  {
   "cell_type": "code",
   "execution_count": 10,
   "metadata": {},
   "outputs": [
    {
     "name": "stdout",
     "output_type": "stream",
     "text": [
      "the value of rainbow option is 30.343053078200832\n",
      "the 95% confidence interval is 30.201765320639755 30.64440756180457\n"
     ]
    }
   ],
   "source": [
    "#Bonus 2\n",
    "#Inverse Cholesky Decomposition to price rainbow option\n",
    "import pandas as pd\n",
    "from numpy.linalg import inv\n",
    "n = 5\n",
    "rho = np.array([[1, .5, .5, .5, .5],\n",
    "                [.5, 1, .5, .5, .5],\n",
    "                [.5, .5, 1, .5, .5],\n",
    "                [.5, .5, .5, 1, .5],\n",
    "                [.5, .5, .5, .5, 1]])  \n",
    "                \n",
    "def rainbow_option_inverse_cholesky_decomposition(K, r, T, num_simulation, n, S0, q, sigma, rho):\n",
    "    C = np.zeros((n, n))\n",
    "    for i in range(n):\n",
    "        for j in range(n):\n",
    "            if i == j:\n",
    "                C[i, i] = sigma[i]*sigma[i]*T\n",
    "            else:\n",
    "                C[i, j] = rho[i, j]*sigma[i]*sigma[j]*T\n",
    "\n",
    "    payoff = np.zeros((num_simulation, 1))\n",
    "    z = np.zeros((num_simulation, n))\n",
    "    for i in range(n):\n",
    "        z[:, i] = norm.rvs(0, 1, num_simulation)\n",
    "        z[:, i] = z[:, i]-np.mean(z[:, i])\n",
    "    COV = pd.DataFrame(z).cov().values\n",
    "    A_ = cholesky_decomposition(COV) \n",
    "    z_ = z.dot(inv(A_))             #Inverse Cholesky Decomposition\n",
    "    A = cholesky_decomposition(C)\n",
    "    r_ = z_.dot(A)\n",
    "\n",
    "    for i in range(n):\n",
    "        r_[:, i] = r_[:, i]+np.log(S0[i])+(r-q[i]-0.5*sigma[i]*sigma[i])*T\n",
    "    st = np.exp(r_)\n",
    "    \n",
    "    for i in range(num_simulation):\n",
    "        payoff[i] = max((max(st[i, :])-K), 0)\n",
    "    \n",
    "    return np.exp(-r*T)*np.mean(payoff)\n",
    "\n",
    "#MonteCarlo simulation\n",
    "def Monte_Carlo_for_rainbow_option_inverse_cholesky(K, r, T, num_simulation, num_repetitions, n, S0, q, sigma, rho):\n",
    "    call = []\n",
    "    for i in range(num_repetitions):\n",
    "        call.append(rainbow_option_inverse_cholesky_decomposition(K, r, T, num_simulation, n, S0, q, sigma, rho))\n",
    "    sd = np.std(call)\n",
    "    mean = np.mean(call)\n",
    "    lower = mean-2*sd\n",
    "    upper = mean+2*sd\n",
    "    return mean, lower, upper\n",
    "\n",
    "print('the value of rainbow option is',Monte_Carlo_for_rainbow_option_inverse_cholesky(K, r, T, num_simulation, num_repetitions, n, S0, q, sigma, rho)[0])\n",
    "print('the 95% confidence interval is',Monte_Carlo_for_rainbow_option_inverse_cholesky(K, r, T, num_simulation, num_repetitions, n, S0, q, sigma, rho)[1]  \n",
    "                                      ,Monte_Carlo_for_rainbow_option_inverse_cholesky(K, r, T, num_simulation, num_repetitions, n, S0, q, sigma, rho)[2])\n"
   ]
  }
 ],
 "metadata": {
  "interpreter": {
   "hash": "878d177fe6072f3e22563988bf5624ffad7fca443b1be474024d0438bbea914c"
  },
  "kernelspec": {
   "display_name": "Python 3.8.8 64-bit ('base': conda)",
   "language": "python",
   "name": "python3"
  },
  "language_info": {
   "codemirror_mode": {
    "name": "ipython",
    "version": 3
   },
   "file_extension": ".py",
   "mimetype": "text/x-python",
   "name": "python",
   "nbconvert_exporter": "python",
   "pygments_lexer": "ipython3",
   "version": "3.8.8"
  },
  "orig_nbformat": 4
 },
 "nbformat": 4,
 "nbformat_minor": 2
}
