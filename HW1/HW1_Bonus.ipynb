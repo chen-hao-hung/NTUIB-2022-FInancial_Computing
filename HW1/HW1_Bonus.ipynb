{
 "cells": [
  {
   "cell_type": "code",
   "execution_count": 25,
   "metadata": {},
   "outputs": [],
   "source": [
    "#Financial Computing HW1 Bonus\n",
    "import numpy as np\n",
    "from scipy.stats import norm"
   ]
  },
  {
   "cell_type": "code",
   "execution_count": 26,
   "metadata": {},
   "outputs": [],
   "source": [
    "#input values setting\n",
    "n = 10000\n",
    "s0 = 100\n",
    "r = 0.05\n",
    "q = 0.02\n",
    "sigma = 0.5 \n",
    "t = 0.4\n",
    "k1 = 90\n",
    "k2 = 98\n",
    "k3 = 102\n",
    "k4 = 110"
   ]
  },
  {
   "cell_type": "code",
   "execution_count": 28,
   "metadata": {},
   "outputs": [],
   "source": [
    "#definition of functions\n",
    "#indicator functions \n",
    "def a1(st, k1, k2):\n",
    "    if k1<=st<k2:\n",
    "        return(1)\n",
    "    else:\n",
    "        return(0)\n",
    "\n",
    "def b1(st, k2, k3):\n",
    "    if k2<=st<k3:\n",
    "        return(1)\n",
    "    else:\n",
    "        return(0)\n",
    "\n",
    "def c1(st, k3, k4):\n",
    "    if k3<=st<k4:\n",
    "        return(1)\n",
    "    else:\n",
    "        return(0)\n",
    "\n",
    "#call function\n",
    "def call_t(st, k1, k2, k3, k4):\n",
    "    result = (st-k1)*a1(st, k1, k2)+(k2-k1)*b1(st, k2, k3)+(st-k4)*c1(st, k3, k4)*(k2-k1)/(k3-k4)\n",
    "    return result\n",
    "\n",
    "def call_0(n, s0, k1, k2, k3, k4):\n",
    "    callt = []\n",
    "    z = norm.rvs(0, 1, n)\n",
    "    logst = z*sigma*np.sqrt(t) + np.log(s0)+(r-0.5*sigma*sigma)*t\n",
    "    st = np.exp(logst)\n",
    "\n",
    "    for i in range(len(st)):\n",
    "        callt.append(call_t(st[i], k1, k2, k3, k4))\n",
    "    call0 = np.exp(-r*t)*np.mean(callt)\n",
    "    return call0"
   ]
  },
  {
   "cell_type": "code",
   "execution_count": 29,
   "metadata": {},
   "outputs": [
    {
     "name": "stdout",
     "output_type": "stream",
     "text": [
      "95% confidence interval for the option value is  [1.1416937956693192, 1.2292923673090226]\n"
     ]
    }
   ],
   "source": [
    "repetitions = 20\n",
    "mc_call = []\n",
    "for i in range(repetitions):\n",
    "    mc_call.append(call_0(n, s0, k1, k2, k3, k4))\n",
    "\n",
    "mc_mean = np.mean(mc_call)\n",
    "mc_std = np.std(mc_call)\n",
    "upper = mc_mean+2*mc_std\n",
    "lower = mc_mean-2*mc_std\n",
    "print('95% confidence interval for the option value is ', [lower, upper])"
   ]
  }
 ],
 "metadata": {
  "interpreter": {
   "hash": "878d177fe6072f3e22563988bf5624ffad7fca443b1be474024d0438bbea914c"
  },
  "kernelspec": {
   "display_name": "Python 3.8.8 64-bit ('base': conda)",
   "language": "python",
   "name": "python3"
  },
  "language_info": {
   "codemirror_mode": {
    "name": "ipython",
    "version": 3
   },
   "file_extension": ".py",
   "mimetype": "text/x-python",
   "name": "python",
   "nbconvert_exporter": "python",
   "pygments_lexer": "ipython3",
   "version": "3.8.8"
  },
  "orig_nbformat": 4
 },
 "nbformat": 4,
 "nbformat_minor": 2
}
