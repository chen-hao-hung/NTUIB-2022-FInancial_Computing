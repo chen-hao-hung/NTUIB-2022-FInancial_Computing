{
 "cells": [
  {
   "cell_type": "code",
   "execution_count": 11,
   "metadata": {},
   "outputs": [],
   "source": [
    "#Financial Computing HW1\n",
    "import numpy as np\n",
    "from scipy.stats import norm"
   ]
  },
  {
   "cell_type": "code",
   "execution_count": 12,
   "metadata": {},
   "outputs": [],
   "source": [
    "#Closed form function\n",
    "def call(s0, r, q, sigma, t, k1, k2, k3, k4):\n",
    "    d1 = (np.log(k1/s0)-(r-q+0.5*sigma*sigma)*t)/(sigma*np.sqrt(t))\n",
    "    d1_ = (np.log(k1/s0)-(r-q-0.5*sigma*sigma)*t)/(sigma*np.sqrt(t))\n",
    "    d2 = (np.log(k2/s0)-(r-q+0.5*sigma*sigma)*t)/(sigma*np.sqrt(t))\n",
    "    d2_ = (np.log(k2/s0)-(r-q-0.5*sigma*sigma)*t)/(sigma*np.sqrt(t))\n",
    "    d3 = (np.log(k3/s0)-(r-q+0.5*sigma*sigma)*t)/(sigma*np.sqrt(t))\n",
    "    d3_ = (np.log(k3/s0)-(r-q-0.5*sigma*sigma)*t)/(sigma*np.sqrt(t))\n",
    "    d4 = (np.log(k4/s0)-(r-q+0.5*sigma*sigma)*t)/(sigma*np.sqrt(t))\n",
    "    d4_ = (np.log(k4/s0)-(r-q-0.5*sigma*sigma)*t)/(sigma*np.sqrt(t))\n",
    "\n",
    "    first = s0*np.exp((r-q)*t)*(norm.cdf(d2)-norm.cdf(d1))-k1*(norm.cdf(d2_)-norm.cdf(d1_))\n",
    "    second = (k2-k1)*(norm.cdf(d3_)-norm.cdf(d2_))\n",
    "    third = s0*np.exp((r-q)*t)*((k2-k1)/(k3-k4))*(norm.cdf(d4)-norm.cdf(d3))-k4*((k2-k1)/(k3-k4))*(norm.cdf(d4_)-norm.cdf(d3_))\n",
    "    payoff = first+second+third\n",
    "    result = np.exp(-r*t)*payoff\n",
    "    return(result)"
   ]
  },
  {
   "cell_type": "code",
   "execution_count": 13,
   "metadata": {},
   "outputs": [
    {
     "name": "stdout",
     "output_type": "stream",
     "text": [
      "call price is 0.9012547201576837\n",
      "call price is 1.1716816801107686\n"
     ]
    }
   ],
   "source": [
    "#Call price\n",
    "print('call price is', call(100, 0.05, 0.02, 0.5, 0.4, 90, 98, 102, 104))\n",
    "print('call price is', call(100, 0.05, 0.02, 0.5, 0.4, 90, 98, 102, 110))"
   ]
  }
 ],
 "metadata": {
  "interpreter": {
   "hash": "878d177fe6072f3e22563988bf5624ffad7fca443b1be474024d0438bbea914c"
  },
  "kernelspec": {
   "display_name": "Python 3.8.8 64-bit ('base': conda)",
   "language": "python",
   "name": "python3"
  },
  "language_info": {
   "codemirror_mode": {
    "name": "ipython",
    "version": 3
   },
   "file_extension": ".py",
   "mimetype": "text/x-python",
   "name": "python",
   "nbconvert_exporter": "python",
   "pygments_lexer": "ipython3",
   "version": "3.8.8"
  },
  "orig_nbformat": 4
 },
 "nbformat": 4,
 "nbformat_minor": 2
}
