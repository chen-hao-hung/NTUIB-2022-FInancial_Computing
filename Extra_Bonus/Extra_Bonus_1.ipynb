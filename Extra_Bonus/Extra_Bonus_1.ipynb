{
 "cells": [
  {
   "cell_type": "code",
   "execution_count": 24,
   "metadata": {},
   "outputs": [],
   "source": [
    "import numpy as np\n",
    "from scipy.stats import norm\n",
    "\n",
    "#input values setting\n",
    "s0 = 50\n",
    "k = 55\n",
    "r = 0.1\n",
    "q = 0.03\n",
    "T = 0.5\n",
    "n = 100\n",
    "convergence_criterion = 1e-9\n",
    "european_call = 2.5\n",
    "american_put = 6.5\n",
    "max_iters=10000"
   ]
  },
  {
   "cell_type": "code",
   "execution_count": 78,
   "metadata": {},
   "outputs": [],
   "source": [
    "#Extra Bonus1\n",
    "#Bisection Method\n",
    "def bisection(fx, a, b, tol=1e-9, max_iters=10000):\n",
    "  fa = fx(a)\n",
    "  fb = fx(b)\n",
    "  if fa*fb > 0:\n",
    "    print(\"f does not have opposite sign at endpoints\")\n",
    "  \n",
    "  c = (a+b)/2\n",
    "  fc = fx(c)\n",
    "  iter = 0\n",
    "  while (iter<max_iters) and (abs(fc)>tol):\n",
    "    iter = iter+1\n",
    "    if fa*fc < 0:\n",
    "      b = c\n",
    "      fb = fc\n",
    "    else:\n",
    "      a = c\n",
    "      fa = fc\n",
    "\n",
    "    c = (a+b)/2\n",
    "    fc = fx(c)\n",
    "  return 100*c\n",
    "  \n",
    "#Black Scholes Formula\n",
    "def BS(s0, k, r, q, sigma, T):\n",
    "    d1 = (np.log(s0/k)+(r-q+0.5*sigma*sigma)*T)/(sigma*np.sqrt(T))\n",
    "    d2 = (np.log(s0/k)+(r-q-0.5*sigma*sigma)*T)/(sigma*np.sqrt(T))\n",
    "    call = s0*np.exp(-q*T)*(norm.cdf(d1))-k*np.exp(-r*T)*(norm.cdf(d2))\n",
    "    put = k*np.exp(-r*T)*norm.cdf(-d2)-s0*np.exp(-q*T)*norm.cdf(-d1)\n",
    "    return call, put\n",
    "\n",
    "def implied_volatility_BS_European_call(sigma):\n",
    "    result = BS(s0, k, r, q, sigma, T)[0] - european_call\n",
    "    return result\n",
    "\n",
    "#CRR binomial tree\n",
    "def binomial_tree(s0, k, r, q, T, n, sigma, type):\n",
    "    dt = T/n\n",
    "    u = np.exp(sigma*np.sqrt(dt))\n",
    "    d = 1/u\n",
    "    p = (np.exp((r-q)*dt)-d)/(u-d)\n",
    "    s = np.zeros((n+1, n+1))\n",
    "    c = np.zeros((n+1, n+1))\n",
    "    put = np.zeros((n+1, n+1))\n",
    "    s[0, 0] = s0\n",
    "\n",
    "    for i in range(0, n+1):\n",
    "        for j in range(i, n+1):\n",
    "            s[i, j] = s0*(u**(j-i))*(d**i)\n",
    "            c[i, n] = max(0, s[i, n]-k)\n",
    "            put[i, n] = max(0, k-s[i, n])\n",
    "\n",
    "    for j in range(n-1, -1, -1):\n",
    "        for i in range(0, j+1):\n",
    "            c[i, j] = np.exp(-r*dt)*(p*c[i, j+1]+(1-p)*c[i+1, j+1])\n",
    "            put[i, j] = np.exp(-r*dt)*(p*put[i, j+1]+(1-p)*put[i+1, j+1])\n",
    "            if type == 'European':\n",
    "                pass\n",
    "            elif type == 'American':\n",
    "                c[i, j] = max(c[i, j], (s[i, j]-k))\n",
    "                put[i, j] = max(put[i, j], (k-s[i, j]))\n",
    "    return c[0, 0], put[0, 0]\n",
    "\n",
    "def implied_volatility_CRR_European_call(sigma):\n",
    "    result = binomial_tree(s0, k, r, q, T, n, sigma, 'European')[0]- european_call\n",
    "    return result\n",
    "\n",
    "def implied_volatility_CRR_American_put(sigma):\n",
    "    result = binomial_tree(s0, k, r, q, T, n, sigma, 'American')[1]- american_put\n",
    "    return result"
   ]
  },
  {
   "cell_type": "code",
   "execution_count": 79,
   "metadata": {},
   "outputs": [
    {
     "name": "stdout",
     "output_type": "stream",
     "text": [
      "The implied volatility of European call(Black Scholes) is 26.839312370866548 %\n",
      "The implied volatility of European call(Binomial Tree) is 26.78457652218641 %\n",
      "The implied volatility of American put(Binomial Tree) is 30.49048574641347 %\n"
     ]
    }
   ],
   "source": [
    "print('The implied volatility of European call(Black Scholes) is', bisection(implied_volatility_BS_European_call, 0.2, 0.4, convergence_criterion, max_iters), '%')\n",
    "print('The implied volatility of European call(Binomial Tree) is', bisection(implied_volatility_CRR_European_call, 0.2, 0.4, convergence_criterion, max_iters), '%')\n",
    "print('The implied volatility of American put(Binomial Tree) is', bisection(implied_volatility_CRR_American_put, 0.2, 0.4, convergence_criterion, max_iters), '%')"
   ]
  },
  {
   "cell_type": "code",
   "execution_count": 81,
   "metadata": {},
   "outputs": [],
   "source": [
    "#Newtons method\n",
    "def newtons_method(x0, fx, dfx, tol=1e-9, max_iters=10000):\n",
    "    x = x0\n",
    "    iter = 0\n",
    "    while (abs(x-(x-fx(x)/dfx(x)))>tol) and (iter<max_iters) and(abs(dfx(x))>tol):\n",
    "        iter = iter+1\n",
    "        x = x-fx(x)/dfx(x)\n",
    "    return 100*x\n",
    "\n",
    "def derivative_of_BS_European_call(sigma):\n",
    "    h = 1e-9\n",
    "    return (implied_volatility_BS_European_call(sigma+h)-implied_volatility_BS_European_call(sigma-h))/(2*h)\n",
    "\n",
    "def derivative_of_CRR_European_call(sigma):\n",
    "    h = 1e-9\n",
    "    return (implied_volatility_CRR_European_call(sigma+h)-implied_volatility_CRR_European_call(sigma-h))/(2*h)\n",
    "\n",
    "def derivative_of_CRR_American_put(sigma):\n",
    "    h = 1e-9\n",
    "    return (implied_volatility_CRR_American_put(sigma+h)-implied_volatility_CRR_American_put(sigma-h))/(2*h)\n",
    "\n"
   ]
  },
  {
   "cell_type": "code",
   "execution_count": 82,
   "metadata": {},
   "outputs": [
    {
     "name": "stdout",
     "output_type": "stream",
     "text": [
      "The implied volatility of European call(Black Scholes) is 26.839312372363693 %\n",
      "The implied volatility of European call(Binomial Tree) is 26.78457652031302 %\n",
      "The implied volatility of American put(Binomial Tree) is 30.490485749680207 %\n"
     ]
    }
   ],
   "source": [
    "print('The implied volatility of European call(Black Scholes) is', newtons_method(0.2, implied_volatility_BS_European_call, derivative_of_BS_European_call, tol=1e-9, max_iters=10000), '%')\n",
    "print('The implied volatility of European call(Binomial Tree) is', newtons_method(0.2, implied_volatility_CRR_European_call, derivative_of_CRR_European_call, tol=1e-9, max_iters=10000), '%')\n",
    "print('The implied volatility of American put(Binomial Tree) is', newtons_method(0.2, implied_volatility_CRR_American_put, derivative_of_CRR_American_put, tol=1e-9, max_iters=10000), '%')"
   ]
  }
 ],
 "metadata": {
  "interpreter": {
   "hash": "878d177fe6072f3e22563988bf5624ffad7fca443b1be474024d0438bbea914c"
  },
  "kernelspec": {
   "display_name": "Python 3.8.8 64-bit ('base': conda)",
   "language": "python",
   "name": "python3"
  },
  "language_info": {
   "codemirror_mode": {
    "name": "ipython",
    "version": 3
   },
   "file_extension": ".py",
   "mimetype": "text/x-python",
   "name": "python",
   "nbconvert_exporter": "python",
   "pygments_lexer": "ipython3",
   "version": "3.8.8"
  },
  "orig_nbformat": 4
 },
 "nbformat": 4,
 "nbformat_minor": 2
}
