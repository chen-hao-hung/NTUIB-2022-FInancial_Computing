{
 "cells": [
  {
   "cell_type": "code",
   "execution_count": 1,
   "metadata": {},
   "outputs": [],
   "source": [
    "#Financial Computing HW2\n",
    "import numpy as np\n",
    "from scipy.stats import norm\n",
    "\n",
    "#input values setting\n",
    "s0 = 50\n",
    "k = 50\n",
    "r = 0.1\n",
    "q = 0.05\n",
    "sigma = 0.4\n",
    "T = 0.5"
   ]
  },
  {
   "cell_type": "code",
   "execution_count": 2,
   "metadata": {},
   "outputs": [
    {
     "name": "stdout",
     "output_type": "stream",
     "text": [
      "the call price is 6.039620873020631\n",
      "the put price is 4.835596496639695\n"
     ]
    }
   ],
   "source": [
    "#Black Scholes Formula\n",
    "def BS(s0, k, r, q, sigma, T):\n",
    "    d1 = (np.log(s0/k)+(r-q+0.5*sigma*sigma)*T)/(sigma*np.sqrt(T))\n",
    "    d2 = (np.log(s0/k)+(r-q-0.5*sigma*sigma)*T)/(sigma*np.sqrt(T))\n",
    "    call = s0*np.exp(-q*T)*(norm.cdf(d1))-k*np.exp(-r*T)*(norm.cdf(d2))\n",
    "    put = k*np.exp(-r*T)*norm.cdf(-d2)-s0*np.exp(-q*T)*norm.cdf(-d1)\n",
    "    return call, put\n",
    "\n",
    "print('the call price is',BS(s0, k, r, q, sigma, T)[0])\n",
    "print('the put price is',BS(s0, k, r, q, sigma, T)[1])"
   ]
  },
  {
   "cell_type": "code",
   "execution_count": 17,
   "metadata": {},
   "outputs": [
    {
     "name": "stdout",
     "output_type": "stream",
     "text": [
      "the call price is 6.043381777054108\n",
      "the 95% confidence intercal is [5.846018970271189, 6.282262326936827]\n",
      "the put price is 4.847775845649094\n",
      "the 95% confidence intercal is [4.735795349223837, 4.950880396728323]\n"
     ]
    }
   ],
   "source": [
    "#Monte Carlo Simulation\n",
    "num_simulations = 10000\n",
    "num_repetitions = 20\n",
    "\n",
    "def MC_call(s0, k, r, q, sigma, T, num_simulations, num_repetitions):\n",
    "    call = []\n",
    "    for i in range(num_repetitions):\n",
    "        z = norm.rvs(0, 1, num_simulations)\n",
    "        logst = z*sigma*np.sqrt(T) + np.log(s0)+(r-q-0.5*sigma*sigma)*T\n",
    "        st = np.exp(logst)\n",
    "        ct = list(map(lambda x:max(0, x-k), st))\n",
    "        c0 = np.exp(-r*T)*np.mean(ct)\n",
    "        call.append(c0)\n",
    "        mu = np.mean(call)\n",
    "        lower = mu - 2*np.std(call)\n",
    "        upper = mu + 2*np.std(call)\n",
    "    return mu ,[lower,upper]\n",
    "\n",
    "def MC_put(s0, k, r, q, sigma, T, num_simulations, num_repetitions):\n",
    "    put = []\n",
    "    for i in range(num_repetitions):\n",
    "        z = norm.rvs(0, 1, num_simulations)\n",
    "        logst = z*sigma*np.sqrt(T) + np.log(s0)+(r-q-0.5*sigma*sigma)*T\n",
    "        st = np.exp(logst)\n",
    "        pt = list(map(lambda x:max(0, k-x), st))\n",
    "        p0 = np.exp(-r*T)*np.mean(pt)\n",
    "        put.append(p0)\n",
    "        mu = np.mean(put)\n",
    "        lower = mu - 2*np.std(put)\n",
    "        upper = mu + 2*np.std(put)\n",
    "    return mu ,[lower,upper]\n",
    "\n",
    "print('the call price is', MC_call(s0, k, r, q, sigma, T, num_simulations, num_repetitions)[0])\n",
    "print('the 95% confidence interval is', MC_call(s0, k, r, q, sigma, T, num_simulations, num_repetitions)[1])\n",
    "\n",
    "print('the put price is', MC_put(s0, k, r, q, sigma, T, num_simulations, num_repetitions)[0])\n",
    "print('the 95% confidence interval is', MC_put(s0, k, r, q, sigma, T, num_simulations, num_repetitions)[1])"
   ]
  },
  {
   "cell_type": "code",
   "execution_count": 2,
   "metadata": {},
   "outputs": [
    {
     "name": "stdout",
     "output_type": "stream",
     "text": [
      "the European call price is 6.026046091387788\n",
      "the European put price is 4.822021715006682\n"
     ]
    }
   ],
   "source": [
    "#CRR binomial tree\n",
    "#European\n",
    "n = 100\n",
    "dt = T/n\n",
    "u = np.exp(sigma*np.sqrt(dt))\n",
    "d = 1/u\n",
    "p = (np.exp((r-q)*dt)-d)/(u-d)\n",
    "s = np.zeros((n+1, n+1))\n",
    "c = np.zeros((n+1, n+1))\n",
    "put = np.zeros((n+1, n+1))\n",
    "s[0, 0] = s0\n",
    "\n",
    "for i in range(0, n+1):\n",
    "    for j in range(i, n+1):\n",
    "        s[i, j] = s0*(u**(j-i))*(d**i)\n",
    "        c[i, n] = max(0, s[i, n]-k)\n",
    "        put[i, n] = max(0, k-s[i, n])\n",
    "\n",
    "for j in range(n-1, -1, -1):\n",
    "    for i in range(0, j+1):\n",
    "        c[i, j] = np.exp(-r*dt)*(p*c[i, j+1]+(1-p)*c[i+1, j+1])\n",
    "        put[i, j] = np.exp(-r*dt)*(p*put[i, j+1]+(1-p)*put[i+1, j+1])\n",
    "        \n",
    "print('the European call price is', c[0, 0])\n",
    "print('the European put price is', put[0, 0])"
   ]
  },
  {
   "cell_type": "code",
   "execution_count": 3,
   "metadata": {},
   "outputs": [
    {
     "name": "stdout",
     "output_type": "stream",
     "text": [
      "the American call price is 6.026232202357999\n",
      "the American put price is 4.979490435744202\n"
     ]
    }
   ],
   "source": [
    "#CRR binomial tree\n",
    "#American\n",
    "n = 100\n",
    "dt = T/n\n",
    "u = np.exp(sigma*np.sqrt(dt))\n",
    "d = 1/u\n",
    "p = (np.exp((r-q)*dt)-d)/(u-d)\n",
    "s = np.zeros((n+1, n+1))\n",
    "c = np.zeros((n+1, n+1))\n",
    "put = np.zeros((n+1, n+1))\n",
    "s[0, 0] = s0\n",
    "\n",
    "for i in range(0, n+1):\n",
    "    for j in range(i, n+1):\n",
    "        s[i, j] = s0*(u**(j-i))*(d**i)\n",
    "        c[i, n] = max(0, s[i, n]-k)\n",
    "        put[i, n] = max(0, k-s[i, n])\n",
    "\n",
    "for j in range(n-1, -1, -1):\n",
    "    for i in range(0, j+1):\n",
    "        c[i, j] = np.exp(-r*dt)*(p*c[i, j+1]+(1-p)*c[i+1, j+1])\n",
    "        c[i, j] = max(c[i, j], (s[i, j]-k))\n",
    "        put[i, j] = np.exp(-r*dt)*(p*put[i, j+1]+(1-p)*put[i+1, j+1])\n",
    "        put[i, j] = max(put[i, j], (k-s[i, j]))\n",
    "        \n",
    "print('the American call price is', c[0, 0])\n",
    "print('the American put price is', put[0, 0])"
   ]
  },
  {
   "cell_type": "code",
   "execution_count": 81,
   "metadata": {},
   "outputs": [
    {
     "name": "stdout",
     "output_type": "stream",
     "text": [
      "the European call price is 6.0369031580427635\n",
      "the European put price is 4.83287878166121\n"
     ]
    }
   ],
   "source": [
    "#Bonus 1\n",
    "#CRR binomial tree\n",
    "#European\n",
    "n = 500\n",
    "dt = T/n\n",
    "u = np.exp(sigma*np.sqrt(dt))\n",
    "d = 1/u\n",
    "p = (np.exp((r-q)*dt)-d)/(u-d)\n",
    "s = np.zeros((n+1, n+1))\n",
    "c = np.zeros((n+1, 1))\n",
    "put = np.zeros((n+1, 1))\n",
    "s[0, 0] = s0\n",
    "\n",
    "for i in range(0, n+1):\n",
    "    for j in range(i, n+1):\n",
    "        s[i, j] = s0*(u**(j-i))*(d**i)\n",
    "        c[i, 0] = max(0, s[i, n]-k)\n",
    "        put[i, 0] = max(0, k-s[i, n])\n",
    "\n",
    "for j in range(n-1, -1, -1):\n",
    "    for i in range(0, j+1):\n",
    "        c[i, 0] = np.exp(-r*dt)*(p*c[i, 0]+(1-p)*c[i+1, 0])\n",
    "        put[i, 0] = np.exp(-r*dt)*(p*put[i, 0]+(1-p)*put[i+1, 0])\n",
    "        \n",
    "\n",
    "print('the European call price is', c[0, 0])\n",
    "print('the European put price is', put[0, 0])"
   ]
  },
  {
   "cell_type": "code",
   "execution_count": 82,
   "metadata": {},
   "outputs": [
    {
     "name": "stdout",
     "output_type": "stream",
     "text": [
      "the American call price is 6.037102908825789\n",
      "the American put price is 4.985903113057611\n"
     ]
    }
   ],
   "source": [
    "#Bonus 1\n",
    "#CRR binomial tree\n",
    "#American\n",
    "n = 500\n",
    "dt = T/n\n",
    "u = np.exp(sigma*np.sqrt(dt))\n",
    "d = 1/u\n",
    "p = (np.exp((r-q)*dt)-d)/(u-d)\n",
    "s = np.zeros((n+1, n+1))\n",
    "c = np.zeros((n+1, 1))\n",
    "put = np.zeros((n+1, 1))\n",
    "s[0, 0] = s0\n",
    "\n",
    "for i in range(0, n+1):\n",
    "    for j in range(i, n+1):\n",
    "        s[i, j] = s0*(u**(j-i))*(d**i)\n",
    "        c[i, 0] = max(0, s[i, n]-k)\n",
    "        put[i, 0] = max(0, k-s[i, n])\n",
    "\n",
    "for j in range(n-1, -1, -1):\n",
    "    for i in range(0, j+1):\n",
    "        c[i, 0] = np.exp(-r*dt)*(p*c[i, 0]+(1-p)*c[i+1, 0])\n",
    "        c[i, 0] = max(c[i, 0], (s[i, j]-k))\n",
    "        put[i, 0] = np.exp(-r*dt)*(p*put[i, 0]+(1-p)*put[i+1, 0])\n",
    "        put[i, 0] = max(put[i, 0], (k-s[i, j]))\n",
    "\n",
    "print('the American call price is', c[0, 0])\n",
    "print('the American put price is', put[0, 0])"
   ]
  },
  {
   "cell_type": "code",
   "execution_count": 24,
   "metadata": {},
   "outputs": [
    {
     "name": "stdout",
     "output_type": "stream",
     "text": [
      "the European call price is 6.039484952998403\n",
      "the European put price is 4.83546057700967\n"
     ]
    }
   ],
   "source": [
    "#Bonus 2\n",
    "#Combination Method\n",
    "n = 10000\n",
    "dt = T/n\n",
    "u = np.exp(sigma*np.sqrt(dt))\n",
    "d = 1/u\n",
    "p = (np.exp((r-q)*dt)-d)/(u-d)\n",
    "call = 0\n",
    "put = 0\n",
    "def fac_log(n):\n",
    "    result = 0\n",
    "    for i in range(1, n+1):\n",
    "        result += np.log(i)\n",
    "    return result\n",
    "\n",
    "for i in range(0, n+1):\n",
    "    combination = np.exp(fac_log(n)-fac_log(i)-fac_log(n-i)+(n-i)*np.log(p)+i*np.log(1-p))\n",
    "    call += combination*max(s0*u**(n-i)*d**i-k, 0)\n",
    "    put += combination*max(k-s0*u**(n-i)*d**i, 0)\n",
    "\n",
    "print('the European call price is', np.exp(-r*T)*call)\n",
    "print('the European put price is', np.exp(-r*T)*put)"
   ]
  }
 ],
 "metadata": {
  "interpreter": {
   "hash": "b3ba2566441a7c06988d0923437866b63cedc61552a5af99d1f4fb67d367b25f"
  },
  "kernelspec": {
   "display_name": "Python 3.8.8 ('base')",
   "language": "python",
   "name": "python3"
  },
  "language_info": {
   "codemirror_mode": {
    "name": "ipython",
    "version": 3
   },
   "file_extension": ".py",
   "mimetype": "text/x-python",
   "name": "python",
   "nbconvert_exporter": "python",
   "pygments_lexer": "ipython3",
   "version": "3.8.8"
  },
  "orig_nbformat": 4
 },
 "nbformat": 4,
 "nbformat_minor": 2
}
